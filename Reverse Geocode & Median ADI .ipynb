{
 "cells": [
  {
   "cell_type": "code",
   "execution_count": 46,
   "id": "friendly-candy",
   "metadata": {},
   "outputs": [],
   "source": [
    "import pandas as pd\n",
    "import numpy as np\n",
    "import geopy\n",
    "from geopy.geocoders import Nominatim"
   ]
  },
  {
   "cell_type": "code",
   "execution_count": 47,
   "id": "musical-worker",
   "metadata": {},
   "outputs": [],
   "source": [
    "df = pd.read_csv('tweet_sample.csv')"
   ]
  },
  {
   "cell_type": "markdown",
   "id": "interesting-raising",
   "metadata": {},
   "source": [
    "## Subset to 10 tweet coordinates for sake of Geopy Example"
   ]
  },
  {
   "cell_type": "code",
   "execution_count": 142,
   "id": "precious-distribution",
   "metadata": {},
   "outputs": [],
   "source": [
    "df_coordinates = df['coordinates'][:10]"
   ]
  },
  {
   "cell_type": "code",
   "execution_count": 75,
   "id": "single-dominant",
   "metadata": {},
   "outputs": [
    {
     "data": {
      "text/plain": [
       "0           27.79571925, -82.67290299999999\n",
       "1    38.003375500000004, -79.42086499999999\n",
       "2            29.8384948, -95.44648649999999\n",
       "3                    42.3527865, -83.099288\n",
       "4            36.1395275, -85.51020700000001\n",
       "5                  34.0207895, -118.4119065\n",
       "6                34.16825365, -111.93171085\n",
       "7           35.6565515, -105.99910650000001\n",
       "8                    34.181956, -119.165389\n",
       "9             41.699816, -86.07852399999999\n",
       "Name: coordinates, dtype: object"
      ]
     },
     "execution_count": 75,
     "metadata": {},
     "output_type": "execute_result"
    }
   ],
   "source": [
    "df_coordinates"
   ]
  },
  {
   "cell_type": "markdown",
   "id": "arbitrary-northwest",
   "metadata": {},
   "source": [
    "## Convert Geocode Helper Files to Dictionaries"
   ]
  },
  {
   "cell_type": "code",
   "execution_count": 138,
   "id": "needed-alfred",
   "metadata": {},
   "outputs": [],
   "source": [
    "state_to_code_df = pd.read_csv('state_to_code.csv', header=None)\n",
    "state_to_code_dict = {}\n",
    "for row in state_to_code_df.itertuples():\n",
    "    state_to_code_dict[row[1]] = row[2]\n",
    "\n",
    "county_to_code_df = pd.read_csv('code_county_state.csv')\n",
    "county_to_code_dict = {}\n",
    "for row in county_to_code_df.itertuples():\n",
    "    if len(str(row[1])) == 4: \n",
    "        code = '0' + str(row[1])\n",
    "    else:\n",
    "        code = str(row[1])\n",
    "    county_to_code_dict[(str(row[2]),row[3])] = code\n",
    "\n",
    "code_to_adi_df = pd.read_csv('county_adi.txt', dtype=str)\n",
    "code_to_adi_dict = {}\n",
    "for row in code_to_adi_df.itertuples():\n",
    "    if str(row[2])[:5] not in code_to_adi_dict:\n",
    "         code_to_adi_dict[str(row[2])[:5]] = []\n",
    "    try:\n",
    "        a = int(row[3])\n",
    "    except:\n",
    "        continue\n",
    "\n",
    "    code_to_adi_dict[str(row[2])[:5]].append(int(row[3]))"
   ]
  },
  {
   "cell_type": "markdown",
   "id": "dying-eugene",
   "metadata": {},
   "source": [
    "## Reverse Geocode Function"
   ]
  },
  {
   "cell_type": "code",
   "execution_count": null,
   "id": "configured-train",
   "metadata": {},
   "outputs": [],
   "source": [
    "def coord_city_state(x):\n",
    "    try:\n",
    "        location = locator.reverse(x)\n",
    "        if 'error' in location.raw:\n",
    "            return [\"NA\", \"NA\", \"NA\", \"NA\", \"NA\"]\n",
    "    except:\n",
    "         return [\"NA\", \"NA\", \"NA\", \"NA\", \"NA\"]\n",
    "\n",
    "    if 'county' in location.raw['address']:\n",
    "        county = location.raw['address']['county']\n",
    "    else:\n",
    "        county = \"NA\"\n",
    "    \n",
    "    if 'state' in location.raw['address']:\n",
    "        state = location.raw['address']['state']\n",
    "    else:\n",
    "        state = \"NA\"\n",
    "    \n",
    "    if county != \"NA\" and state != \"NA\":\n",
    "        try:\n",
    "            county_code = county_to_code_dict[(county, state)]\n",
    "        except KeyError:\n",
    "            county_code = \"NA\"\n",
    "\n",
    "        try:\n",
    "            if code_to_adi_dict[county_code]:\n",
    "                adi = str(np.median(code_to_adi_dict[county_code]))\n",
    "            else:\n",
    "                adi = \"NA\"\n",
    "        except KeyError:\n",
    "            adi = \"NA\"\n",
    "\n",
    "    else:\n",
    "        county_code = \"NA\"\n",
    "        adi = \"NA\"\n",
    "\n",
    "    return [county, state, county_code, adi]"
   ]
  },
  {
   "cell_type": "markdown",
   "id": "interstate-mentor",
   "metadata": {},
   "source": [
    "## Run Function"
   ]
  },
  {
   "cell_type": "code",
   "execution_count": 143,
   "id": "automated-siemens",
   "metadata": {},
   "outputs": [],
   "source": [
    "locator = Nominatim(user_agent=\"my-geopy-application\")\n",
    "df_coordinates['County-State-Code-ADI'] = df_coordinates.apply(lambda x:coord_city_state(x))"
   ]
  },
  {
   "cell_type": "markdown",
   "id": "insured-place",
   "metadata": {},
   "source": [
    "## Results"
   ]
  },
  {
   "cell_type": "code",
   "execution_count": 144,
   "id": "wooden-brunswick",
   "metadata": {},
   "outputs": [
    {
     "data": {
      "text/plain": [
       "0          [Pinellas County, Florida, 12103, 61.0]\n",
       "1       [Rockbridge County, Virginia, 51163, 47.5]\n",
       "2              [Harris County, Texas, 48201, 62.0]\n",
       "3            [Wayne County, Michigan, 26163, 86.0]\n",
       "4          [Putnam County, Tennessee, 47141, 60.5]\n",
       "5    [Los Angeles County, California, 06037, 19.0]\n",
       "6           [Yavapai County, Arizona, 04025, 53.0]\n",
       "7       [Santa Fe County, New Mexico, 35049, 29.5]\n",
       "8        [Ventura County, California, 06111, 13.0]\n",
       "9      [Saint Joseph County, Indiana, 18141, 74.0]\n",
       "Name: coordinates, dtype: object"
      ]
     },
     "execution_count": 144,
     "metadata": {},
     "output_type": "execute_result"
    }
   ],
   "source": [
    "df_coordinates['County-State-Code-ADI']"
   ]
  }
 ],
 "metadata": {
  "kernelspec": {
   "display_name": "Python 3",
   "language": "python",
   "name": "python3"
  },
  "language_info": {
   "codemirror_mode": {
    "name": "ipython",
    "version": 3
   },
   "file_extension": ".py",
   "mimetype": "text/x-python",
   "name": "python",
   "nbconvert_exporter": "python",
   "pygments_lexer": "ipython3",
   "version": "3.7.8"
  }
 },
 "nbformat": 4,
 "nbformat_minor": 5
}
