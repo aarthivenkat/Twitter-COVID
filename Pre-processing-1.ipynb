{
 "cells": [
  {
   "cell_type": "code",
   "execution_count": 1,
   "metadata": {},
   "outputs": [
    {
     "name": "stderr",
     "output_type": "stream",
     "text": [
      "/Users/yadushyadav/anaconda3/lib/python3.6/site-packages/IPython/core/interactiveshell.py:2785: DtypeWarning: Columns (0,1,2,10,11,13,74,81) have mixed types. Specify dtype option on import or set low_memory=False.\n",
      "  interactivity=interactivity, compiler=compiler, result=result)\n"
     ]
    }
   ],
   "source": [
    "import pandas as pd\n",
    "jan = pd.read_csv('january.csv')"
   ]
  },
  {
   "cell_type": "code",
   "execution_count": 2,
   "metadata": {},
   "outputs": [],
   "source": [
    "feb = pd.read_csv('february.csv')"
   ]
  },
  {
   "cell_type": "code",
   "execution_count": 3,
   "metadata": {},
   "outputs": [
    {
     "name": "stderr",
     "output_type": "stream",
     "text": [
      "/Users/yadushyadav/anaconda3/lib/python3.6/site-packages/IPython/core/interactiveshell.py:2785: DtypeWarning: Columns (0,2,3,4,5,6,7,8,9,10,11,12,13,14,16,17,18,19,20,21,23,24,25,26,27,28,29,30,31,32,33,34,35,36,37,38,39,40,41,42,43,44,46,47,48,49,50,51,54,56,58,70,71,73,76,77,78,79,80,82,83,84,85,86,87,89) have mixed types. Specify dtype option on import or set low_memory=False.\n",
      "  interactivity=interactivity, compiler=compiler, result=result)\n"
     ]
    }
   ],
   "source": [
    "march = pd.read_csv('march.csv')"
   ]
  },
  {
   "cell_type": "code",
   "execution_count": 4,
   "metadata": {},
   "outputs": [
    {
     "data": {
      "text/plain": [
       "(11317, 88)"
      ]
     },
     "execution_count": 4,
     "metadata": {},
     "output_type": "execute_result"
    }
   ],
   "source": [
    "jan.shape"
   ]
  },
  {
   "cell_type": "code",
   "execution_count": 5,
   "metadata": {},
   "outputs": [
    {
     "data": {
      "text/plain": [
       "(34140, 90)"
      ]
     },
     "execution_count": 5,
     "metadata": {},
     "output_type": "execute_result"
    }
   ],
   "source": [
    "feb.shape"
   ]
  },
  {
   "cell_type": "code",
   "execution_count": 6,
   "metadata": {},
   "outputs": [
    {
     "data": {
      "text/plain": [
       "(297667, 90)"
      ]
     },
     "execution_count": 6,
     "metadata": {},
     "output_type": "execute_result"
    }
   ],
   "source": [
    "march.shape"
   ]
  },
  {
   "cell_type": "code",
   "execution_count": 7,
   "metadata": {},
   "outputs": [],
   "source": [
    "frames = [jan,feb,march]"
   ]
  },
  {
   "cell_type": "code",
   "execution_count": 8,
   "metadata": {},
   "outputs": [
    {
     "name": "stderr",
     "output_type": "stream",
     "text": [
      "/Users/yadushyadav/anaconda3/lib/python3.6/site-packages/ipykernel_launcher.py:1: FutureWarning: Sorting because non-concatenation axis is not aligned. A future version\n",
      "of pandas will change to not sort by default.\n",
      "\n",
      "To accept the future behavior, pass 'sort=True'.\n",
      "\n",
      "To retain the current behavior and silence the warning, pass sort=False\n",
      "\n",
      "  \"\"\"Entry point for launching an IPython kernel.\n"
     ]
    }
   ],
   "source": [
    "df = pd.concat(frames)"
   ]
  },
  {
   "cell_type": "code",
   "execution_count": 9,
   "metadata": {},
   "outputs": [
    {
     "data": {
      "text/plain": [
       "(343124, 90)"
      ]
     },
     "execution_count": 9,
     "metadata": {},
     "output_type": "execute_result"
    }
   ],
   "source": [
    "df.shape"
   ]
  },
  {
   "cell_type": "code",
   "execution_count": 10,
   "metadata": {},
   "outputs": [],
   "source": [
    "df.drop_duplicates(inplace=True)"
   ]
  },
  {
   "cell_type": "code",
   "execution_count": 11,
   "metadata": {},
   "outputs": [
    {
     "data": {
      "text/plain": [
       "(276416, 90)"
      ]
     },
     "execution_count": 11,
     "metadata": {},
     "output_type": "execute_result"
    }
   ],
   "source": [
    "df.shape"
   ]
  },
  {
   "cell_type": "code",
   "execution_count": 12,
   "metadata": {},
   "outputs": [
    {
     "data": {
      "text/plain": [
       "276416"
      ]
     },
     "execution_count": 12,
     "metadata": {},
     "output_type": "execute_result"
    }
   ],
   "source": [
    "len(df['text'])"
   ]
  },
  {
   "cell_type": "code",
   "execution_count": 13,
   "metadata": {},
   "outputs": [],
   "source": [
    "tweets = df['text']"
   ]
  },
  {
   "cell_type": "code",
   "execution_count": 14,
   "metadata": {},
   "outputs": [
    {
     "data": {
      "text/plain": [
       "0    lysoling da fuck outta everything bc i aint ca...\n",
       "1                1 Coronavirus confirmed in Washington\n",
       "2    Hmmmmm, could the #coronavirus soon be the new...\n",
       "3    At 11 million people, #Wuhan is larger than Ne...\n",
       "4    Wuhan is cutting off inflows and outflows of t...\n",
       "Name: text, dtype: object"
      ]
     },
     "execution_count": 14,
     "metadata": {},
     "output_type": "execute_result"
    }
   ],
   "source": [
    "tweets[:5]"
   ]
  },
  {
   "cell_type": "code",
   "execution_count": 15,
   "metadata": {},
   "outputs": [
    {
     "data": {
      "text/plain": [
       "276416"
      ]
     },
     "execution_count": 15,
     "metadata": {},
     "output_type": "execute_result"
    }
   ],
   "source": [
    "len(tweets)"
   ]
  },
  {
   "cell_type": "code",
   "execution_count": 16,
   "metadata": {},
   "outputs": [],
   "source": [
    "import string\n",
    "import re\n",
    "import nltk"
   ]
  },
  {
   "cell_type": "code",
   "execution_count": 17,
   "metadata": {},
   "outputs": [],
   "source": [
    "def remove_punct(text):\n",
    "    text  = \"\".join([char for char in str(text) if char not in string.punctuation])\n",
    "    text = re.sub('[0-9]+', '', text)\n",
    "    return text\n",
    "\n",
    "tweets1 = tweets.apply(lambda x: remove_punct(x))"
   ]
  },
  {
   "cell_type": "code",
   "execution_count": 41,
   "metadata": {},
   "outputs": [
    {
     "data": {
      "text/plain": [
       "0     lysoling da fuck outta everything bc i aint ca...\n",
       "1                   Coronavirus confirmed in Washington\n",
       "2     Hmmmmm could the coronavirus soon be the new p...\n",
       "3     At  million people Wuhan is larger than New Yo...\n",
       "4     Wuhan is cutting off inflows and outflows of t...\n",
       "5     China quarantines Wuhan\\nThe Chinese governmen...\n",
       "6     Very little evidence the coronavirus epidemic ...\n",
       "7     We have it totally under control Its one perso...\n",
       "8        You got that coronavirus yo  httpstcogwuszGCjw\n",
       "9     Received a briefing today on this case Asked t...\n",
       "10    With this new coronavirus from wuhan chinaand ...\n",
       "11       Insert Coronavirus joke here httpstcotSqdwYbXr\n",
       "12    The only question left How long until the zomb...\n",
       "13    Ya okay thanks for the coronavirus  httpstcoyC...\n",
       "14    Anyone else remember that movie where GwynethP...\n",
       "15    Wuhan announces transportation lockdown  https...\n",
       "16    BBCWorld JamesTGallagher Is this the end👀🦠🔬😷Ch...\n",
       "17    I’m building my squad for the zombie apocalyps...\n",
       "18    If I was still in college I would have been ma...\n",
       "19    Just wanna do something fun before the coronav...\n",
       "Name: text, dtype: object"
      ]
     },
     "execution_count": 41,
     "metadata": {},
     "output_type": "execute_result"
    }
   ],
   "source": [
    "tweets1[:20]"
   ]
  },
  {
   "cell_type": "code",
   "execution_count": 19,
   "metadata": {},
   "outputs": [],
   "source": [
    "def remove_emoji(x):\n",
    "    return x.encode('ascii', 'ignore').decode('ascii')\n",
    "\n",
    "tweets2 = tweets1.apply(lambda x: remove_emoji(x))"
   ]
  },
  {
   "cell_type": "code",
   "execution_count": 20,
   "metadata": {},
   "outputs": [
    {
     "data": {
      "text/plain": [
       "297617    Kinda freaking out a little A kid in our neigh...\n",
       "297618    Second coronavirus death in San Antonio The wo...\n",
       "297619    Study suggests new coronavirus may remain on s...\n",
       "297620    While my friends are posting about home workou...\n",
       "297621    We should all be acting as if we have coronavi...\n",
       "297622    Looking for more ideas for creative learning h...\n",
       "297623    Day  of \\n\\nIm super happy that my switch and ...\n",
       "297624    Its five oclock somewhere \\nBut drink responsi...\n",
       "297625    Putin dons hazmat suit as Moscow says coronavi...\n",
       "297626    PLEASE TAKE  MINUTES TO ACT ASK THE SENATE TO ...\n",
       "297627    Our professionals are finding ways to manage t...\n",
       "297628    THIS\\n\\nCoronavirus Is Advancing All Americans...\n",
       "297629    The BEST EXPLANATION for why we need socialdis...\n",
       "297630    This is a war\\n\\nThe JavitsCenter is being con...\n",
       "297631    MiaOBrienTV JeffValin Seeing as how I recently...\n",
       "297632    CoronaVirus Daily Update SarahHamptonnnn and I...\n",
       "297633    Donald Trump stupidly says he wants the countr...\n",
       "297634    Home sweet home Thank you Jesus for my relatio...\n",
       "297635    Imagine finding the vaccine to the Coronavirus...\n",
       "297636    JillGeisler Absolutely I think I know whod hos...\n",
       "297637    Coronavirus updates New Yorkers spreading viru...\n",
       "297638    THR So Coronavirus ruins everything Great http...\n",
       "297639    Now watch Booger McTrumpland walk back on his ...\n",
       "297640    JohnCornyn realDonaldTrump didnt declare a nat...\n",
       "297641    All these years of eating fast food and this i...\n",
       "297642    Now this is hitting home You will know people ...\n",
       "297643    CNN  reasons the American Resurrection wont wo...\n",
       "297644    When the Quarantine is done thisll be everyone...\n",
       "297645    Playwright Terrence McNally dies at age  from ...\n",
       "297646    NYGovCuomo RudyGiuliani  maddow chrislhayes db...\n",
       "297647    Art vs Temporary Blight boarded up business ar...\n",
       "297648    A wonderful humanitarian was Father GiuseppeBe...\n",
       "297649    One of the mild symptoms of the coronavirus is...\n",
       "297650    Tonight in Coronavirus Cooking Class we toured...\n",
       "297651    San Diego Convention Center will repurpose and...\n",
       "297652    Kentuckians got together to hold a coronavirus...\n",
       "297653    Schools shutting down for the rest of the year...\n",
       "297654    I didnt know New York was that bad\\n\\nUS Offic...\n",
       "297655    Andrew is going around the house yelling CORON...\n",
       "297656     patients  staff members at state psychiatric ...\n",
       "297657    And it should also be said that even if Americ...\n",
       "297658    FDA approves plasma treatment for sickest coro...\n",
       "297659    NewHome Construction Slipped in FebruaryBefore...\n",
       "297660    We have an opportunity to take on both the cor...\n",
       "297661    Tired of hearing the latest Coronavirus press ...\n",
       "297662    realDonaldTrump realDonaldTrump you have to st...\n",
       "297663    Now Durham\\n\\nIm betting that by Thursday well...\n",
       "297664    mitchellreports MSNBC Medical science has foun...\n",
       "297665    Dudes fucked up in the crib with coronavirus\\n...\n",
       "297666    Me So can I come home \\n\\nMom No I dont want t...\n",
       "Name: text, dtype: object"
      ]
     },
     "execution_count": 20,
     "metadata": {},
     "output_type": "execute_result"
    }
   ],
   "source": [
    "tweets2[-50:]"
   ]
  },
  {
   "cell_type": "code",
   "execution_count": 21,
   "metadata": {},
   "outputs": [],
   "source": [
    "def remove_link(x):\n",
    "    return re.sub(r\"http\\S+\", \"\", x)\n",
    "\n",
    "tweets3 = tweets2.apply(lambda x: remove_link(x))"
   ]
  },
  {
   "cell_type": "code",
   "execution_count": 22,
   "metadata": {},
   "outputs": [
    {
     "data": {
      "text/plain": [
       "297617    Kinda freaking out a little A kid in our neigh...\n",
       "297618    Second coronavirus death in San Antonio The wo...\n",
       "297619    Study suggests new coronavirus may remain on s...\n",
       "297620    While my friends are posting about home workou...\n",
       "297621    We should all be acting as if we have coronavi...\n",
       "297622    Looking for more ideas for creative learning h...\n",
       "297623    Day  of \\n\\nIm super happy that my switch and ...\n",
       "297624    Its five oclock somewhere \\nBut drink responsi...\n",
       "297625    Putin dons hazmat suit as Moscow says coronavi...\n",
       "297626    PLEASE TAKE  MINUTES TO ACT ASK THE SENATE TO ...\n",
       "297627    Our professionals are finding ways to manage t...\n",
       "297628    THIS\\n\\nCoronavirus Is Advancing All Americans...\n",
       "297629    The BEST EXPLANATION for why we need socialdis...\n",
       "297630    This is a war\\n\\nThe JavitsCenter is being con...\n",
       "297631    MiaOBrienTV JeffValin Seeing as how I recently...\n",
       "297632    CoronaVirus Daily Update SarahHamptonnnn and I...\n",
       "297633    Donald Trump stupidly says he wants the countr...\n",
       "297634    Home sweet home Thank you Jesus for my relatio...\n",
       "297635    Imagine finding the vaccine to the Coronavirus...\n",
       "297636    JillGeisler Absolutely I think I know whod hos...\n",
       "297637    Coronavirus updates New Yorkers spreading viru...\n",
       "297638           THR So Coronavirus ruins everything Great \n",
       "297639    Now watch Booger McTrumpland walk back on his ...\n",
       "297640    JohnCornyn realDonaldTrump didnt declare a nat...\n",
       "297641    All these years of eating fast food and this i...\n",
       "297642    Now this is hitting home You will know people ...\n",
       "297643    CNN  reasons the American Resurrection wont wo...\n",
       "297644    When the Quarantine is done thisll be everyone...\n",
       "297645    Playwright Terrence McNally dies at age  from ...\n",
       "297646    NYGovCuomo RudyGiuliani  maddow chrislhayes db...\n",
       "297647    Art vs Temporary Blight boarded up business ar...\n",
       "297648    A wonderful humanitarian was Father GiuseppeBe...\n",
       "297649    One of the mild symptoms of the coronavirus is...\n",
       "297650    Tonight in Coronavirus Cooking Class we toured...\n",
       "297651    San Diego Convention Center will repurpose and...\n",
       "297652    Kentuckians got together to hold a coronavirus...\n",
       "297653    Schools shutting down for the rest of the year...\n",
       "297654    I didnt know New York was that bad\\n\\nUS Offic...\n",
       "297655    Andrew is going around the house yelling CORON...\n",
       "297656     patients  staff members at state psychiatric ...\n",
       "297657    And it should also be said that even if Americ...\n",
       "297658    FDA approves plasma treatment for sickest coro...\n",
       "297659    NewHome Construction Slipped in FebruaryBefore...\n",
       "297660    We have an opportunity to take on both the cor...\n",
       "297661    Tired of hearing the latest Coronavirus press ...\n",
       "297662    realDonaldTrump realDonaldTrump you have to st...\n",
       "297663    Now Durham\\n\\nIm betting that by Thursday well...\n",
       "297664    mitchellreports MSNBC Medical science has foun...\n",
       "297665    Dudes fucked up in the crib with coronavirus\\n...\n",
       "297666    Me So can I come home \\n\\nMom No I dont want t...\n",
       "Name: text, dtype: object"
      ]
     },
     "execution_count": 22,
     "metadata": {},
     "output_type": "execute_result"
    }
   ],
   "source": [
    "tweets3[-50:]"
   ]
  },
  {
   "cell_type": "code",
   "execution_count": 23,
   "metadata": {},
   "outputs": [],
   "source": [
    "def replace_n(x):\n",
    "    return x.replace('\\n',' ')\n",
    "\n",
    "tweets4 = tweets3.apply(lambda x: replace_n(x))"
   ]
  },
  {
   "cell_type": "code",
   "execution_count": 24,
   "metadata": {},
   "outputs": [
    {
     "data": {
      "text/plain": [
       "297617    Kinda freaking out a little A kid in our neigh...\n",
       "297618    Second coronavirus death in San Antonio The wo...\n",
       "297619    Study suggests new coronavirus may remain on s...\n",
       "297620    While my friends are posting about home workou...\n",
       "297621    We should all be acting as if we have coronavi...\n",
       "297622    Looking for more ideas for creative learning h...\n",
       "297623    Day  of   Im super happy that my switch and an...\n",
       "297624    Its five oclock somewhere  But drink responsib...\n",
       "297625    Putin dons hazmat suit as Moscow says coronavi...\n",
       "297626    PLEASE TAKE  MINUTES TO ACT ASK THE SENATE TO ...\n",
       "297627    Our professionals are finding ways to manage t...\n",
       "297628    THIS  Coronavirus Is Advancing All Americans N...\n",
       "297629    The BEST EXPLANATION for why we need socialdis...\n",
       "297630    This is a war  The JavitsCenter is being conve...\n",
       "297631    MiaOBrienTV JeffValin Seeing as how I recently...\n",
       "297632    CoronaVirus Daily Update SarahHamptonnnn and I...\n",
       "297633    Donald Trump stupidly says he wants the countr...\n",
       "297634    Home sweet home Thank you Jesus for my relatio...\n",
       "297635    Imagine finding the vaccine to the Coronavirus...\n",
       "297636    JillGeisler Absolutely I think I know whod host  \n",
       "297637    Coronavirus updates New Yorkers spreading viru...\n",
       "297638           THR So Coronavirus ruins everything Great \n",
       "297639    Now watch Booger McTrumpland walk back on his ...\n",
       "297640    JohnCornyn realDonaldTrump didnt declare a nat...\n",
       "297641    All these years of eating fast food and this i...\n",
       "297642    Now this is hitting home You will know people ...\n",
       "297643    CNN  reasons the American Resurrection wont wo...\n",
       "297644    When the Quarantine is done thisll be everyone...\n",
       "297645    Playwright Terrence McNally dies at age  from ...\n",
       "297646    NYGovCuomo RudyGiuliani  maddow chrislhayes db...\n",
       "297647    Art vs Temporary Blight boarded up business ar...\n",
       "297648    A wonderful humanitarian was Father GiuseppeBe...\n",
       "297649    One of the mild symptoms of the coronavirus is...\n",
       "297650    Tonight in Coronavirus Cooking Class we toured...\n",
       "297651    San Diego Convention Center will repurpose and...\n",
       "297652    Kentuckians got together to hold a coronavirus...\n",
       "297653    Schools shutting down for the rest of the year...\n",
       "297654    I didnt know New York was that bad  US Officia...\n",
       "297655    Andrew is going around the house yelling CORON...\n",
       "297656     patients  staff members at state psychiatric ...\n",
       "297657    And it should also be said that even if Americ...\n",
       "297658    FDA approves plasma treatment for sickest coro...\n",
       "297659    NewHome Construction Slipped in FebruaryBefore...\n",
       "297660    We have an opportunity to take on both the cor...\n",
       "297661    Tired of hearing the latest Coronavirus press ...\n",
       "297662    realDonaldTrump realDonaldTrump you have to st...\n",
       "297663    Now Durham  Im betting that by Thursday well a...\n",
       "297664    mitchellreports MSNBC Medical science has foun...\n",
       "297665    Dudes fucked up in the crib with coronavirus H...\n",
       "297666    Me So can I come home   Mom No I dont want tha...\n",
       "Name: text, dtype: object"
      ]
     },
     "execution_count": 24,
     "metadata": {},
     "output_type": "execute_result"
    }
   ],
   "source": [
    "tweets4[-50:]"
   ]
  },
  {
   "cell_type": "code",
   "execution_count": 25,
   "metadata": {},
   "outputs": [],
   "source": [
    "def tokenization(text):\n",
    "    text = re.split('\\W+', text)\n",
    "    return text\n",
    "\n",
    "tweets5 = tweets4.apply(lambda x: tokenization(x.lower()))"
   ]
  },
  {
   "cell_type": "code",
   "execution_count": 26,
   "metadata": {},
   "outputs": [
    {
     "data": {
      "text/plain": [
       "297617    [kinda, freaking, out, a, little, a, kid, in, ...\n",
       "297618    [second, coronavirus, death, in, san, antonio,...\n",
       "297619    [study, suggests, new, coronavirus, may, remai...\n",
       "297620    [while, my, friends, are, posting, about, home...\n",
       "297621    [we, should, all, be, acting, as, if, we, have...\n",
       "297622    [looking, for, more, ideas, for, creative, lea...\n",
       "297623    [day, of, im, super, happy, that, my, switch, ...\n",
       "297624    [its, five, oclock, somewhere, but, drink, res...\n",
       "297625    [putin, dons, hazmat, suit, as, moscow, says, ...\n",
       "297626    [please, take, minutes, to, act, ask, the, sen...\n",
       "297627    [our, professionals, are, finding, ways, to, m...\n",
       "297628    [this, coronavirus, is, advancing, all, americ...\n",
       "297629    [the, best, explanation, for, why, we, need, s...\n",
       "297630    [this, is, a, war, the, javitscenter, is, bein...\n",
       "297631    [miaobrientv, jeffvalin, seeing, as, how, i, r...\n",
       "297632    [coronavirus, daily, update, sarahhamptonnnn, ...\n",
       "297633    [donald, trump, stupidly, says, he, wants, the...\n",
       "297634    [home, sweet, home, thank, you, jesus, for, my...\n",
       "297635    [imagine, finding, the, vaccine, to, the, coro...\n",
       "297636    [jillgeisler, absolutely, i, think, i, know, w...\n",
       "297637    [coronavirus, updates, new, yorkers, spreading...\n",
       "297638    [thr, so, coronavirus, ruins, everything, grea...\n",
       "297639    [now, watch, booger, mctrumpland, walk, back, ...\n",
       "297640    [johncornyn, realdonaldtrump, didnt, declare, ...\n",
       "297641    [all, these, years, of, eating, fast, food, an...\n",
       "297642    [now, this, is, hitting, home, you, will, know...\n",
       "297643    [cnn, reasons, the, american, resurrection, wo...\n",
       "297644    [when, the, quarantine, is, done, thisll, be, ...\n",
       "297645    [playwright, terrence, mcnally, dies, at, age,...\n",
       "297646    [nygovcuomo, rudygiuliani, maddow, chrislhayes...\n",
       "297647    [art, vs, temporary, blight, boarded, up, busi...\n",
       "297648    [a, wonderful, humanitarian, was, father, gius...\n",
       "297649    [one, of, the, mild, symptoms, of, the, corona...\n",
       "297650    [tonight, in, coronavirus, cooking, class, we,...\n",
       "297651    [san, diego, convention, center, will, repurpo...\n",
       "297652    [kentuckians, got, together, to, hold, a, coro...\n",
       "297653    [schools, shutting, down, for, the, rest, of, ...\n",
       "297654    [i, didnt, know, new, york, was, that, bad, us...\n",
       "297655    [andrew, is, going, around, the, house, yellin...\n",
       "297656    [, patients, staff, members, at, state, psychi...\n",
       "297657    [and, it, should, also, be, said, that, even, ...\n",
       "297658    [fda, approves, plasma, treatment, for, sickes...\n",
       "297659    [newhome, construction, slipped, in, februaryb...\n",
       "297660    [we, have, an, opportunity, to, take, on, both...\n",
       "297661    [tired, of, hearing, the, latest, coronavirus,...\n",
       "297662    [realdonaldtrump, realdonaldtrump, you, have, ...\n",
       "297663    [now, durham, im, betting, that, by, thursday,...\n",
       "297664    [mitchellreports, msnbc, medical, science, has...\n",
       "297665    [dudes, fucked, up, in, the, crib, with, coron...\n",
       "297666    [me, so, can, i, come, home, mom, no, i, dont,...\n",
       "Name: text, dtype: object"
      ]
     },
     "execution_count": 26,
     "metadata": {},
     "output_type": "execute_result"
    }
   ],
   "source": [
    "tweets5[-50:]"
   ]
  },
  {
   "cell_type": "code",
   "execution_count": 27,
   "metadata": {},
   "outputs": [],
   "source": [
    "sw = nltk.corpus.stopwords.words('english')"
   ]
  },
  {
   "cell_type": "code",
   "execution_count": 28,
   "metadata": {},
   "outputs": [],
   "source": [
    "def remove_stopwords(text):\n",
    "    text = [word for word in text if word not in sw]\n",
    "    return text\n",
    "    \n",
    "tweets6 = tweets5.apply(lambda x: remove_stopwords(x))"
   ]
  },
  {
   "cell_type": "code",
   "execution_count": 29,
   "metadata": {},
   "outputs": [
    {
     "data": {
      "text/plain": [
       "0     [lysoling, da, fuck, outta, everything, bc, ai...\n",
       "1                [, coronavirus, confirmed, washington]\n",
       "2       [hmmmmm, could, coronavirus, soon, new, plague]\n",
       "3     [million, people, wuhan, larger, new, york, ci...\n",
       "4     [wuhan, cutting, inflows, outflows, transport,...\n",
       "5     [china, quarantines, wuhan, chinese, governmen...\n",
       "6     [little, evidence, coronavirus, epidemic, cont...\n",
       "7     [totally, control, one, person, coming, china,...\n",
       "8                              [got, coronavirus, yo, ]\n",
       "9     [received, briefing, today, case, asked, healt...\n",
       "10    [new, coronavirus, wuhan, chinaand, upcoming, ...\n",
       "11                        [insert, coronavirus, joke, ]\n",
       "12    [question, left, long, zombies, appear, china,...\n",
       "13                    [ya, okay, thanks, coronavirus, ]\n",
       "14    [anyone, else, remember, movie, gwynethpaltrow...\n",
       "15       [wuhan, announces, transportation, lockdown, ]\n",
       "16    [bbcworld, jamestgallagher, endchina, coronavi...\n",
       "17    [im, building, squad, zombie, apocalypse, look...\n",
       "18    [still, college, would, making, different, typ...\n",
       "19          [wanna, something, fun, coronavirus, wipes]\n",
       "Name: text, dtype: object"
      ]
     },
     "execution_count": 29,
     "metadata": {},
     "output_type": "execute_result"
    }
   ],
   "source": [
    "tweets6[:20]"
   ]
  },
  {
   "cell_type": "code",
   "execution_count": 30,
   "metadata": {},
   "outputs": [
    {
     "data": {
      "text/plain": [
       "0     [lysoling, da, fuck, outta, everything, bc, ai...\n",
       "1                  [coronavirus, confirmed, washington]\n",
       "2       [hmmmmm, could, coronavirus, soon, new, plague]\n",
       "3     [million, people, wuhan, larger, new, york, ci...\n",
       "4     [wuhan, cutting, inflows, outflows, transport,...\n",
       "5     [china, quarantines, wuhan, chinese, governmen...\n",
       "6     [little, evidence, coronavirus, epidemic, cont...\n",
       "7     [totally, control, one, person, coming, china,...\n",
       "8                                [got, coronavirus, yo]\n",
       "9     [received, briefing, today, case, asked, healt...\n",
       "10    [new, coronavirus, wuhan, chinaand, upcoming, ...\n",
       "11                          [insert, coronavirus, joke]\n",
       "12    [question, left, long, zombies, appear, china,...\n",
       "13                      [ya, okay, thanks, coronavirus]\n",
       "14    [anyone, else, remember, movie, gwynethpaltrow...\n",
       "15         [wuhan, announces, transportation, lockdown]\n",
       "16    [bbcworld, jamestgallagher, endchina, coronavi...\n",
       "17    [im, building, squad, zombie, apocalypse, look...\n",
       "18    [still, college, would, making, different, typ...\n",
       "19          [wanna, something, fun, coronavirus, wipes]\n",
       "Name: text, dtype: object"
      ]
     },
     "execution_count": 30,
     "metadata": {},
     "output_type": "execute_result"
    }
   ],
   "source": [
    "def remove_empty_strings(x):\n",
    "    without_empty_strings = []\n",
    "    for string in x:\n",
    "        if (string != \"\"):\n",
    "            without_empty_strings.append(string)\n",
    "    return without_empty_strings\n",
    "\n",
    "tweets6 = tweets6.apply(lambda x: remove_empty_strings(x))\n",
    "tweets6[:20]"
   ]
  },
  {
   "cell_type": "code",
   "execution_count": 31,
   "metadata": {},
   "outputs": [],
   "source": [
    "lem = nltk.WordNetLemmatizer()\n",
    "\n",
    "def lemmatizer(text):\n",
    "    text = [lem.lemmatize(word) for word in text]\n",
    "    return text\n",
    "\n",
    "tweets7 = tweets6.apply(lambda x: lemmatizer(x))"
   ]
  },
  {
   "cell_type": "code",
   "execution_count": 32,
   "metadata": {},
   "outputs": [
    {
     "data": {
      "text/plain": [
       "0     [lysoling, da, fuck, outta, everything, bc, ai...\n",
       "1                  [coronavirus, confirmed, washington]\n",
       "2       [hmmmmm, could, coronavirus, soon, new, plague]\n",
       "3     [million, people, wuhan, larger, new, york, ci...\n",
       "4     [wuhan, cutting, inflow, outflow, transport, a...\n",
       "5     [china, quarantine, wuhan, chinese, government...\n",
       "6     [little, evidence, coronavirus, epidemic, cont...\n",
       "7     [totally, control, one, person, coming, china,...\n",
       "8                                [got, coronavirus, yo]\n",
       "9     [received, briefing, today, case, asked, healt...\n",
       "10    [new, coronavirus, wuhan, chinaand, upcoming, ...\n",
       "11                          [insert, coronavirus, joke]\n",
       "12    [question, left, long, zombie, appear, china, ...\n",
       "13                      [ya, okay, thanks, coronavirus]\n",
       "14    [anyone, else, remember, movie, gwynethpaltrow...\n",
       "15         [wuhan, announces, transportation, lockdown]\n",
       "16    [bbcworld, jamestgallagher, endchina, coronavi...\n",
       "17    [im, building, squad, zombie, apocalypse, look...\n",
       "18    [still, college, would, making, different, typ...\n",
       "19           [wanna, something, fun, coronavirus, wipe]\n",
       "Name: text, dtype: object"
      ]
     },
     "execution_count": 32,
     "metadata": {},
     "output_type": "execute_result"
    }
   ],
   "source": [
    "tweets7[:20]"
   ]
  },
  {
   "cell_type": "code",
   "execution_count": 33,
   "metadata": {},
   "outputs": [],
   "source": [
    "ps = nltk.PorterStemmer()\n",
    "\n",
    "def stemming(text):\n",
    "    text = [ps.stem(word) for word in text]\n",
    "    return text\n",
    "\n",
    "tweets72 = tweets6.apply(lambda x: stemming(x))"
   ]
  },
  {
   "cell_type": "code",
   "execution_count": 34,
   "metadata": {},
   "outputs": [
    {
     "data": {
      "text/plain": [
       "0     [lysol, da, fuck, outta, everyth, bc, aint, ca...\n",
       "1                     [coronaviru, confirm, washington]\n",
       "2         [hmmmmm, could, coronaviru, soon, new, plagu]\n",
       "3     [million, peopl, wuhan, larger, new, york, cit...\n",
       "4     [wuhan, cut, inflow, outflow, transport, annou...\n",
       "5     [china, quarantin, wuhan, chines, govern, quar...\n",
       "6     [littl, evid, coronaviru, epidem, control, say...\n",
       "7     [total, control, one, person, come, china, tru...\n",
       "8                                 [got, coronaviru, yo]\n",
       "9     [receiv, brief, today, case, ask, health, offi...\n",
       "10    [new, coronaviru, wuhan, chinaand, upcom, trav...\n",
       "11                           [insert, coronaviru, joke]\n",
       "12    [question, left, long, zombi, appear, china, q...\n",
       "13                        [ya, okay, thank, coronaviru]\n",
       "14    [anyon, els, rememb, movi, gwynethpaltrow, got...\n",
       "15                [wuhan, announc, transport, lockdown]\n",
       "16    [bbcworld, jamestgallagh, endchina, coronaviru...\n",
       "17    [im, build, squad, zombi, apocalyps, look, gle...\n",
       "18    [still, colleg, would, make, differ, type, cor...\n",
       "19               [wanna, someth, fun, coronaviru, wipe]\n",
       "Name: text, dtype: object"
      ]
     },
     "execution_count": 34,
     "metadata": {},
     "output_type": "execute_result"
    }
   ],
   "source": [
    "tweets72[:20]"
   ]
  },
  {
   "cell_type": "code",
   "execution_count": 35,
   "metadata": {},
   "outputs": [
    {
     "data": {
      "text/plain": [
       "pandas.core.series.Series"
      ]
     },
     "execution_count": 35,
     "metadata": {},
     "output_type": "execute_result"
    }
   ],
   "source": [
    "type(tweets7)"
   ]
  },
  {
   "cell_type": "code",
   "execution_count": 36,
   "metadata": {},
   "outputs": [
    {
     "data": {
      "text/plain": [
       "(276416, 90)"
      ]
     },
     "execution_count": 36,
     "metadata": {},
     "output_type": "execute_result"
    }
   ],
   "source": [
    "df.shape"
   ]
  },
  {
   "cell_type": "code",
   "execution_count": 37,
   "metadata": {},
   "outputs": [
    {
     "data": {
      "text/plain": [
       "276416"
      ]
     },
     "execution_count": 37,
     "metadata": {},
     "output_type": "execute_result"
    }
   ],
   "source": [
    "len(tweets7)"
   ]
  },
  {
   "cell_type": "code",
   "execution_count": 46,
   "metadata": {},
   "outputs": [],
   "source": [
    "from datetime import datetime\n",
    "def time_change1(x):\n",
    "    if ((x!='False')and(pd.isnull(x)==False)):\n",
    "        x = float(x)\n",
    "        day_name = datetime.fromtimestamp(x).strftime(\"%A\")\n",
    "        return day_name\n",
    "    else:\n",
    "        return 'NaN'\n",
    "\n",
    "def time_change2(x):\n",
    "    if ((x!='False')and(pd.isnull(x)==False)):\n",
    "        x = float(x)\n",
    "        day_name = datetime.fromtimestamp(x).strftime(\"%B\")\n",
    "        return day_name\n",
    "    else:\n",
    "        return 'NaN'\n",
    "    \n",
    "def time_change3(x):\n",
    "    if ((x!='False')and(pd.isnull(x)==False)):\n",
    "        x = float(x)\n",
    "        day_name = datetime.fromtimestamp(x).strftime(\"%d\")\n",
    "        return day_name\n",
    "    else:\n",
    "        return 'NaN'\n",
    "    \n",
    "def time_change4(x):\n",
    "    if ((x!='False')and(pd.isnull(x)==False)):\n",
    "        x = float(x)\n",
    "        day_name = datetime.fromtimestamp(x).strftime(\"%H\")\n",
    "        return day_name\n",
    "    else:\n",
    "        return 'NaN'\n",
    "    \n",
    "def time_change5(x):\n",
    "    if ((x!='False')and(pd.isnull(x)==False)):\n",
    "        x = float(x)\n",
    "        day_name = datetime.fromtimestamp(x).strftime(\"%M\")\n",
    "        return day_name\n",
    "    else:\n",
    "        return 'NaN'\n",
    "\n",
    "def time_change6(x):\n",
    "    if ((x!='False')and(pd.isnull(x)==False)):\n",
    "        x = float(x)\n",
    "        day_name = datetime.fromtimestamp(x).strftime(\"%S\")\n",
    "        return day_name\n",
    "    else:\n",
    "        return 'NaN'\n",
    "    \n",
    "    \n",
    "    \n",
    "    \n",
    "    \n",
    "\n",
    "df['day'] = df['created_at'].apply(lambda x: time_change1(x))\n",
    "df['month'] = df['created_at'].apply(lambda x: time_change2(x))\n",
    "df['date'] = df['created_at'].apply(lambda x: time_change3(x))\n",
    "df['hour'] = df['created_at'].apply(lambda x: time_change4(x))\n",
    "df['minutes'] = df['created_at'].apply(lambda x: time_change5(x))\n",
    "df['seconds'] = df['created_at'].apply(lambda x: time_change6(x))"
   ]
  },
  {
   "cell_type": "code",
   "execution_count": 47,
   "metadata": {},
   "outputs": [
    {
     "data": {
      "text/plain": [
       "Index(['account_created_at', 'account_lang', 'bbox_coords', 'coords_coords',\n",
       "       'country', 'country_code', 'created_at', 'description',\n",
       "       'display_text_width', 'ext_media_expanded_url', 'ext_media_t.co',\n",
       "       'ext_media_type', 'ext_media_url', 'favorite_count', 'favourites_count',\n",
       "       'followers_count', 'friends_count', 'geo_coords', 'hashtags',\n",
       "       'is_quote', 'is_retweet', 'lang', 'listed_count', 'location',\n",
       "       'media_expanded_url', 'media_t.co', 'media_type', 'media_url',\n",
       "       'mentions_screen_name', 'mentions_user_id', 'name', 'place_full_name',\n",
       "       'place_name', 'place_type', 'place_url', 'profile_background_url',\n",
       "       'profile_banner_url', 'profile_expanded_url', 'profile_image_url',\n",
       "       'profile_url', 'protected', 'quote_count', 'quoted_created_at',\n",
       "       'quoted_description', 'quoted_favorite_count', 'quoted_followers_count',\n",
       "       'quoted_friends_count', 'quoted_location', 'quoted_name',\n",
       "       'quoted_retweet_count', 'quoted_screen_name', 'quoted_source',\n",
       "       'quoted_status_id', 'quoted_statuses_count', 'quoted_text',\n",
       "       'quoted_user_id', 'quoted_verified', 'reply_count',\n",
       "       'reply_to_screen_name', 'reply_to_status_id', 'reply_to_user_id',\n",
       "       'retweet_count', 'retweet_created_at', 'retweet_description',\n",
       "       'retweet_favorite_count', 'retweet_followers_count',\n",
       "       'retweet_friends_count', 'retweet_location', 'retweet_name',\n",
       "       'retweet_retweet_count', 'retweet_screen_name', 'retweet_source',\n",
       "       'retweet_status_id', 'retweet_statuses_count', 'retweet_text',\n",
       "       'retweet_user_id', 'retweet_verified', 'screen_name', 'source',\n",
       "       'status_id', 'status_url', 'statuses_count', 'symbols', 'text', 'url',\n",
       "       'urls_expanded_url', 'urls_t.co', 'urls_url', 'user_id', 'verified',\n",
       "       'day', 'month', 'date', 'hour', 'minutes', 'seconds'],\n",
       "      dtype='object')"
      ]
     },
     "execution_count": 47,
     "metadata": {},
     "output_type": "execute_result"
    }
   ],
   "source": [
    "df.columns"
   ]
  },
  {
   "cell_type": "code",
   "execution_count": 48,
   "metadata": {},
   "outputs": [],
   "source": [
    "new = pd.DataFrame({'tweet':df.text,'lemmatizer':tweets7.values,'stemmer':tweets72.values,'day':df.day, 'month':df.month, 'date':df.date, 'hour':df.hour, 'minutes':df.minutes, 'seconds':df.seconds,'location':df.place_name})"
   ]
  },
  {
   "cell_type": "code",
   "execution_count": 49,
   "metadata": {},
   "outputs": [],
   "source": [
    "new.to_csv('with_time_location.csv')"
   ]
  },
  {
   "cell_type": "code",
   "execution_count": 50,
   "metadata": {},
   "outputs": [
    {
     "data": {
      "text/plain": [
       "(276416, 10)"
      ]
     },
     "execution_count": 50,
     "metadata": {},
     "output_type": "execute_result"
    }
   ],
   "source": [
    "new.shape"
   ]
  },
  {
   "cell_type": "code",
   "execution_count": 51,
   "metadata": {},
   "outputs": [
    {
     "data": {
      "text/plain": [
       "(276416, 96)"
      ]
     },
     "execution_count": 51,
     "metadata": {},
     "output_type": "execute_result"
    }
   ],
   "source": [
    "df.shape"
   ]
  },
  {
   "cell_type": "code",
   "execution_count": 52,
   "metadata": {},
   "outputs": [],
   "source": [
    "df['lemmatizer'] = new['lemmatizer']\n",
    "df['stemmer'] = new['stemmer']\n",
    "df['day'] = new['day']\n",
    "df['month'] = new['month']\n",
    "df['date'] = new['date']\n",
    "df['hour'] = new['hour']\n",
    "df['minutes'] = new['minutes']\n",
    "df['seconds'] = new['seconds']"
   ]
  },
  {
   "cell_type": "code",
   "execution_count": 53,
   "metadata": {},
   "outputs": [
    {
     "data": {
      "text/plain": [
       "(276416, 98)"
      ]
     },
     "execution_count": 53,
     "metadata": {},
     "output_type": "execute_result"
    }
   ],
   "source": [
    "df.shape"
   ]
  },
  {
   "cell_type": "code",
   "execution_count": 54,
   "metadata": {},
   "outputs": [],
   "source": [
    "df.to_csv('complete.csv')"
   ]
  },
  {
   "cell_type": "code",
   "execution_count": 55,
   "metadata": {},
   "outputs": [],
   "source": [
    "#%load_ext autotime\n",
    "import pandas as pd\n",
    "import geopandas as gpd\n",
    "import geopy\n",
    "from geopy.geocoders import Nominatim\n",
    "from geopy.extra.rate_limiter import RateLimiter\n",
    "import matplotlib.pyplot as plt\n",
    "#import plotly_express as px\n",
    "import tqdm\n",
    "from tqdm._tqdm_notebook import tqdm_notebook"
   ]
  },
  {
   "cell_type": "code",
   "execution_count": 56,
   "metadata": {},
   "outputs": [
    {
     "data": {
      "text/plain": [
       "True"
      ]
     },
     "execution_count": 56,
     "metadata": {},
     "output_type": "execute_result"
    }
   ],
   "source": [
    "import sys\n",
    "'geopandas' in sys.modules"
   ]
  },
  {
   "cell_type": "code",
   "execution_count": 57,
   "metadata": {},
   "outputs": [],
   "source": [
    "import geopandas as gpd"
   ]
  },
  {
   "cell_type": "code",
   "execution_count": 58,
   "metadata": {},
   "outputs": [],
   "source": [
    "import geopy"
   ]
  },
  {
   "cell_type": "code",
   "execution_count": 59,
   "metadata": {},
   "outputs": [
    {
     "name": "stderr",
     "output_type": "stream",
     "text": [
      "/Users/yadushyadav/anaconda3/lib/python3.6/site-packages/IPython/core/interactiveshell.py:2785: DtypeWarning: Columns (3,9,11,14,16,17,19,22,23,43,44,45,47,49,52,64,73,74,76,79,82,91,92,105,108) have mixed types. Specify dtype option on import or set low_memory=False.\n",
      "  interactivity=interactivity, compiler=compiler, result=result)\n"
     ]
    }
   ],
   "source": [
    "df = pd.read_csv('all_276k.csv')"
   ]
  },
  {
   "cell_type": "code",
   "execution_count": 60,
   "metadata": {},
   "outputs": [
    {
     "name": "stderr",
     "output_type": "stream",
     "text": [
      "/Users/yadushyadav/anaconda3/lib/python3.6/site-packages/ipykernel_launcher.py:1: DeprecationWarning: Using Nominatim with the default \"geopy/1.21.0\" `user_agent` is strongly discouraged, as it violates Nominatim's ToS https://operations.osmfoundation.org/policies/nominatim/ and may possibly cause 403 and 429 HTTP errors. Please specify a custom `user_agent` with `Nominatim(user_agent=\"my-application\")` or by overriding the default `user_agent`: `geopy.geocoders.options.default_user_agent = \"my-application\"`. In geopy 2.0 this will become an exception.\n",
      "  \"\"\"Entry point for launching an IPython kernel.\n"
     ]
    }
   ],
   "source": [
    "locator = Nominatim()"
   ]
  },
  {
   "cell_type": "code",
   "execution_count": 61,
   "metadata": {},
   "outputs": [
    {
     "data": {
      "text/plain": [
       "'39.170111500000004, -77.26434'"
      ]
     },
     "execution_count": 61,
     "metadata": {},
     "output_type": "execute_result"
    }
   ],
   "source": [
    "df['coordinates'][17]"
   ]
  },
  {
   "cell_type": "code",
   "execution_count": 66,
   "metadata": {},
   "outputs": [
    {
     "name": "stdout",
     "output_type": "stream",
     "text": [
      "{'place_id': 18335202, 'licence': 'Data © OpenStreetMap contributors, ODbL 1.0. https://osm.org/copyright', 'osm_type': 'node', 'osm_id': 1785833827, 'lat': '39.1702943', 'lon': '-77.2639766', 'display_name': '19200, Circle Gate Drive, Germantown View, Fox Chapel, Germantown, Montgomery County, Maryland, 20874, United States of America', 'address': {'house_number': '19200', 'road': 'Circle Gate Drive', 'neighbourhood': 'Germantown View', 'suburb': 'Fox Chapel', 'locality': 'Germantown', 'county': 'Montgomery County', 'state': 'Maryland', 'postcode': '20874', 'country': 'United States of America', 'country_code': 'us'}, 'boundingbox': ['39.1701943', '39.1703943', '-77.2640766', '-77.2638766']}\n"
     ]
    }
   ],
   "source": [
    "\n",
    "coordinates = ['39.17011, -77.26434']\n",
    "location = locator.reverse(\", \".join(coordinates))\n",
    "print(location.raw)\n"
   ]
  },
  {
   "cell_type": "code",
   "execution_count": 67,
   "metadata": {},
   "outputs": [
    {
     "data": {
      "text/plain": [
       "Index(['Unnamed: 0', 'Unnamed: 0.1', 'Unnamed: 0.1.1', 'account_created_at',\n",
       "       'account_lang', 'bbox_coords', 'coords_coords', 'country',\n",
       "       'country_code', 'created_at',\n",
       "       ...\n",
       "       'state', 'city', 'coordinates', 'state_new',\n",
       "       'County-City-State-Code-SDI', 'SDI', 'Code', 'State', 'City', 'County'],\n",
       "      dtype='object', length=112)"
      ]
     },
     "execution_count": 67,
     "metadata": {},
     "output_type": "execute_result"
    }
   ],
   "source": [
    "df.columns"
   ]
  },
  {
   "cell_type": "code",
   "execution_count": 70,
   "metadata": {},
   "outputs": [
    {
     "name": "stdout",
     "output_type": "stream",
     "text": [
      "0.020599734783172608\n"
     ]
    }
   ],
   "source": [
    "import time\n",
    "t1 = time.time()\n",
    "\n",
    "#@jit(target =\"cuda\")\n",
    "#@jit(nopython = True)\n",
    "def new_coordinates(x):\n",
    "    if ((x==x)==False):\n",
    "        return 'NaN'\n",
    "    #print(x)\n",
    "    if (x[2]!='-'):\n",
    "        return 'NaN'\n",
    "    lt = x[2:-1].split(',')\n",
    "    l1 = (float(lt[5]) + float(lt[7]))/2\n",
    "    l2 = (float(lt[0]) + float(lt[2]))/2\n",
    "    L = [str(l1),str(l2)]\n",
    "    return \", \".join(L)\n",
    "#     location = locator.reverse(\", \".join(L))\n",
    "#     if 'error' in location.raw:\n",
    "#         return 'NaN'\n",
    "#     if 'county' in location.raw['address']:\n",
    "#         return [location.raw['address']['county'],location.raw['address']['state']]\n",
    "#     elif 'city' in location.raw['address']:\n",
    "#         return [location.raw['address']['city'],location.raw['address']['state']]\n",
    "#     else:\n",
    "#         return [\"NaN\",location.raw['address']['state']]\n",
    "\n",
    "\n",
    "\n",
    "df['coordinates'] = df['bbox_coords'].apply(lambda x:new_coordinates(x))\n",
    "\n",
    "print((time.time()-t1)/60)"
   ]
  },
  {
   "cell_type": "code",
   "execution_count": 72,
   "metadata": {},
   "outputs": [],
   "source": [
    "locator = Nominatim()\n",
    "\n",
    "def coord_city_state(x):\n",
    "    location = locator.reverse(x)\n",
    "    if 'error' in location.raw:\n",
    "        return 'NaN'\n",
    "    if 'county' in location.raw['address']:\n",
    "        return [location.raw['address']['county'],location.raw['address']['state']]\n",
    "    elif 'city' in location.raw['address']:\n",
    "        return [location.raw['address']['city'],location.raw['address']['state']]\n",
    "    elif 'state' in location.raw['address']:\n",
    "        return [\"NaN\",location.raw['address']['state']]  \n",
    "    else:\n",
    "        return \"NaN\"\n",
    "\n",
    "df['City-State'] = df['coordinates'].apply(lambda x:coord_city_state(x))"
   ]
  },
  {
   "cell_type": "code",
   "execution_count": null,
   "metadata": {},
   "outputs": [],
   "source": []
  },
  {
   "cell_type": "markdown",
   "metadata": {},
   "source": [
    "END"
   ]
  }
 ],
 "metadata": {
  "kernelspec": {
   "display_name": "Python 3",
   "language": "python",
   "name": "python3"
  },
  "language_info": {
   "codemirror_mode": {
    "name": "ipython",
    "version": 3
   },
   "file_extension": ".py",
   "mimetype": "text/x-python",
   "name": "python",
   "nbconvert_exporter": "python",
   "pygments_lexer": "ipython3",
   "version": "3.6.5"
  }
 },
 "nbformat": 4,
 "nbformat_minor": 2
}
