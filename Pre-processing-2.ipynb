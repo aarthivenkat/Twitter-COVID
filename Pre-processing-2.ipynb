{
 "cells": [
  {
   "cell_type": "code",
   "execution_count": 4,
   "metadata": {},
   "outputs": [],
   "source": [
    "import pandas as pd\n",
    "import numpy as np"
   ]
  },
  {
   "cell_type": "code",
   "execution_count": 2,
   "metadata": {},
   "outputs": [
    {
     "name": "stderr",
     "output_type": "stream",
     "text": [
      "/Users/yadushyadav/anaconda3/lib/python3.6/site-packages/IPython/core/interactiveshell.py:2785: DtypeWarning: Columns (8,21,22,42,63,81,90,91) have mixed types. Specify dtype option on import or set low_memory=False.\n",
      "  interactivity=interactivity, compiler=compiler, result=result)\n",
      "/Users/yadushyadav/anaconda3/lib/python3.6/site-packages/IPython/core/interactiveshell.py:2785: DtypeWarning: Columns (2,8,13,15,16,18,21,22,42,72,73,75,78,81,84,91) have mixed types. Specify dtype option on import or set low_memory=False.\n",
      "  interactivity=interactivity, compiler=compiler, result=result)\n",
      "/Users/yadushyadav/anaconda3/lib/python3.6/site-packages/IPython/core/interactiveshell.py:2785: DtypeWarning: Columns (2,13,15,16,18,21,22,42,43,46,51,72,73,75,78,81,84,91) have mixed types. Specify dtype option on import or set low_memory=False.\n",
      "  interactivity=interactivity, compiler=compiler, result=result)\n",
      "/Users/yadushyadav/anaconda3/lib/python3.6/site-packages/IPython/core/interactiveshell.py:2785: DtypeWarning: Columns (2,13,15,16,18,21,22,42,72,73,75,78,81,91) have mixed types. Specify dtype option on import or set low_memory=False.\n",
      "  interactivity=interactivity, compiler=compiler, result=result)\n",
      "/Users/yadushyadav/anaconda3/lib/python3.6/site-packages/IPython/core/interactiveshell.py:2785: DtypeWarning: Columns (2,10,13,15,16,18,21,22,42,43,44,46,48,51,72,73,75,78,81,91) have mixed types. Specify dtype option on import or set low_memory=False.\n",
      "  interactivity=interactivity, compiler=compiler, result=result)\n"
     ]
    }
   ],
   "source": [
    "df0 = pd.read_csv('geocoded_0_to_10k.csv')\n",
    "df2 = pd.read_csv('geocoded_10k_to_20k.csv')\n",
    "df3 = pd.read_csv('geocoded_20k_to_30k.csv')\n",
    "df4 = pd.read_csv('geocoded_30k_to_40k.csv')\n",
    "df5 = pd.read_csv('geocoded_40k_to_50k.csv')\n",
    "df6 = pd.read_csv('geocoded_50k_to_100k.csv')\n",
    "df7 = pd.read_csv('geocoded_100k_to_150k.csv')\n",
    "df8 = pd.read_csv('geocoded_150k_to_200k.csv')\n",
    "df9 = pd.read_csv('geocoded_200k_to_end.csv')"
   ]
  },
  {
   "cell_type": "code",
   "execution_count": 3,
   "metadata": {},
   "outputs": [
    {
     "data": {
      "text/html": [
       "<div>\n",
       "<style scoped>\n",
       "    .dataframe tbody tr th:only-of-type {\n",
       "        vertical-align: middle;\n",
       "    }\n",
       "\n",
       "    .dataframe tbody tr th {\n",
       "        vertical-align: top;\n",
       "    }\n",
       "\n",
       "    .dataframe thead th {\n",
       "        text-align: right;\n",
       "    }\n",
       "</style>\n",
       "<table border=\"1\" class=\"dataframe\">\n",
       "  <thead>\n",
       "    <tr style=\"text-align: right;\">\n",
       "      <th></th>\n",
       "      <th>Unnamed: 0</th>\n",
       "      <th>Unnamed: 0.1</th>\n",
       "      <th>account_created_at</th>\n",
       "      <th>account_lang</th>\n",
       "      <th>bbox_coords</th>\n",
       "      <th>coords_coords</th>\n",
       "      <th>country</th>\n",
       "      <th>country_code</th>\n",
       "      <th>created_at</th>\n",
       "      <th>description</th>\n",
       "      <th>...</th>\n",
       "      <th>hour</th>\n",
       "      <th>minutes</th>\n",
       "      <th>seconds</th>\n",
       "      <th>lemmatizer</th>\n",
       "      <th>stemmer</th>\n",
       "      <th>state</th>\n",
       "      <th>city</th>\n",
       "      <th>coordinates</th>\n",
       "      <th>state_new</th>\n",
       "      <th>County-City-State-Code-SDI</th>\n",
       "    </tr>\n",
       "  </thead>\n",
       "  <tbody>\n",
       "    <tr>\n",
       "      <th>0</th>\n",
       "      <td>200000</td>\n",
       "      <td>200000</td>\n",
       "      <td>1447707403</td>\n",
       "      <td>NaN</td>\n",
       "      <td>c(-114.818269, -109.0451527, -109.0451527, -11...</td>\n",
       "      <td>c(-111.656944, 34.286667)</td>\n",
       "      <td>United States</td>\n",
       "      <td>US</td>\n",
       "      <td>1.584640e+09</td>\n",
       "      <td>little family of trucking tzus ! we are truck ...</td>\n",
       "      <td>...</td>\n",
       "      <td>23.0</td>\n",
       "      <td>11.0</td>\n",
       "      <td>26.0</td>\n",
       "      <td>['still', 'running', 'delivering', 'food', 'th...</td>\n",
       "      <td>['still', 'run', 'deliv', 'food', 'thank', 'tr...</td>\n",
       "      <td>AZ</td>\n",
       "      <td>NaN</td>\n",
       "      <td>34.16825365, -111.93171085</td>\n",
       "      <td>NaN</td>\n",
       "      <td>['Yavapai County', 'NA', 'Arizona', '4025', '31']</td>\n",
       "    </tr>\n",
       "  </tbody>\n",
       "</table>\n",
       "<p>1 rows × 106 columns</p>\n",
       "</div>"
      ],
      "text/plain": [
       "   Unnamed: 0  Unnamed: 0.1 account_created_at  account_lang  \\\n",
       "0      200000        200000         1447707403           NaN   \n",
       "\n",
       "                                         bbox_coords  \\\n",
       "0  c(-114.818269, -109.0451527, -109.0451527, -11...   \n",
       "\n",
       "               coords_coords        country country_code    created_at  \\\n",
       "0  c(-111.656944, 34.286667)  United States           US  1.584640e+09   \n",
       "\n",
       "                                         description  \\\n",
       "0  little family of trucking tzus ! we are truck ...   \n",
       "\n",
       "                         ...                          hour minutes seconds  \\\n",
       "0                        ...                          23.0    11.0    26.0   \n",
       "\n",
       "                                          lemmatizer  \\\n",
       "0  ['still', 'running', 'delivering', 'food', 'th...   \n",
       "\n",
       "                                             stemmer state city  \\\n",
       "0  ['still', 'run', 'deliv', 'food', 'thank', 'tr...    AZ  NaN   \n",
       "\n",
       "                  coordinates state_new  \\\n",
       "0  34.16825365, -111.93171085       NaN   \n",
       "\n",
       "                          County-City-State-Code-SDI  \n",
       "0  ['Yavapai County', 'NA', 'Arizona', '4025', '31']  \n",
       "\n",
       "[1 rows x 106 columns]"
      ]
     },
     "execution_count": 3,
     "metadata": {},
     "output_type": "execute_result"
    }
   ],
   "source": [
    "df9.head(1)"
   ]
  },
  {
   "cell_type": "code",
   "execution_count": 4,
   "metadata": {},
   "outputs": [],
   "source": [
    "frames = [df0,df2,df3,df4,df5,df6,df7,df8,df9]\n",
    "df1 = pd.concat(frames)"
   ]
  },
  {
   "cell_type": "code",
   "execution_count": 5,
   "metadata": {},
   "outputs": [],
   "source": [
    "def break_col_sdi(x):\n",
    "    lt = x[1:-1].split(',')\n",
    "    if len(lt)==3:\n",
    "        return 'NaN'\n",
    "    elif lt[4][2:-1] == 'NA':\n",
    "        return 'NaN'\n",
    "    else:\n",
    "        return lt[4][2:-1]\n",
    "    \n",
    "df1['SDI'] = df1['County-City-State-Code-SDI'].apply(lambda x:break_col_sdi(x))"
   ]
  },
  {
   "cell_type": "code",
   "execution_count": 6,
   "metadata": {},
   "outputs": [],
   "source": [
    "def break_col_code(x):\n",
    "    lt = x[1:-1].split(',')\n",
    "    if len(lt)==3:\n",
    "        return 'NaN'\n",
    "    elif lt[3][2:-1] == 'NA':\n",
    "        return 'NaN'\n",
    "    else:\n",
    "        return lt[3][2:-1]\n",
    "    \n",
    "df1['Code'] = df1['County-City-State-Code-SDI'].apply(lambda x:break_col_code(x))"
   ]
  },
  {
   "cell_type": "code",
   "execution_count": 7,
   "metadata": {},
   "outputs": [],
   "source": [
    "def break_col_state(x):\n",
    "    lt = x[1:-1].split(',')\n",
    "    if len(lt)==3:\n",
    "        return 'NaN'\n",
    "    elif lt[2][2:-1] == 'NA':\n",
    "        return 'NaN'\n",
    "    else:\n",
    "        return lt[2][2:-1]\n",
    "    \n",
    "df1['State'] = df1['County-City-State-Code-SDI'].apply(lambda x:break_col_state(x))"
   ]
  },
  {
   "cell_type": "code",
   "execution_count": 8,
   "metadata": {},
   "outputs": [],
   "source": [
    "def break_col_city(x):\n",
    "    lt = x[1:-1].split(',')\n",
    "    if len(lt)==3:\n",
    "        return 'NaN'\n",
    "    elif lt[1][2:-1] == 'NA':\n",
    "        return 'NaN'\n",
    "    else:\n",
    "        return lt[1][2:-1]\n",
    "    \n",
    "df1['City'] = df1['County-City-State-Code-SDI'].apply(lambda x:break_col_city(x))"
   ]
  },
  {
   "cell_type": "code",
   "execution_count": 9,
   "metadata": {},
   "outputs": [],
   "source": [
    "def break_col_county(x):\n",
    "    lt = x[1:-1].split(',')\n",
    "    if len(lt)==3:\n",
    "        return 'NaN'\n",
    "    elif lt[0][1:-1] == 'NA':\n",
    "        return 'NaN'\n",
    "    else:\n",
    "        return lt[0][1:-1]\n",
    "    \n",
    "df1['County'] = df1['County-City-State-Code-SDI'].apply(lambda x:break_col_county(x))"
   ]
  },
  {
   "cell_type": "code",
   "execution_count": 10,
   "metadata": {},
   "outputs": [
    {
     "data": {
      "text/plain": [
       "0             Tarrant County\n",
       "1             Allegan County\n",
       "2                Leon County\n",
       "3            Maricopa County\n",
       "4                 Washington\n",
       "5            Richmond County\n",
       "6              Shelby County\n",
       "7                 Washington\n",
       "8         Los Angeles County\n",
       "9           Snohomish County\n",
       "10             Orange County\n",
       "11           Davidson County\n",
       "12        Piscataquis County\n",
       "13          Salt Lake County\n",
       "14           Hamilton County\n",
       "15          Wilkinson County\n",
       "16              Kings County\n",
       "17         Montgomery County\n",
       "18             Concho County\n",
       "19               Erie County\n",
       "20             Benton County\n",
       "21         Miami-Dade County\n",
       "22               Cook County\n",
       "23               King County\n",
       "24              Clark County\n",
       "25            Socorro County\n",
       "26             Lehigh County\n",
       "27            Fairfax County\n",
       "28            Suffolk County\n",
       "29         Washington County\n",
       "                ...         \n",
       "76386    Anne Arundel County\n",
       "76387          Fresno County\n",
       "76388       San Diego County\n",
       "76389          Bergen County\n",
       "76390         Madison County\n",
       "76391                    NaN\n",
       "76392        New York County\n",
       "76393          Macomb County\n",
       "76394         Tarrant County\n",
       "76395    Hillsborough County\n",
       "76396            King County\n",
       "76397       Christian County\n",
       "76398            Rice County\n",
       "76399          Brazos County\n",
       "76400       San Diego County\n",
       "76401          Queens County\n",
       "76402           Bexar County\n",
       "76403      Montgomery County\n",
       "76404     Los Angeles County\n",
       "76405       Washtenaw County\n",
       "76406          Harris County\n",
       "76407         Klamath County\n",
       "76408       Riverside County\n",
       "76409           Kings County\n",
       "76410       Snohomish County\n",
       "76411     Piscataquis County\n",
       "76412            Wake County\n",
       "76413      New Castle County\n",
       "76414         Oakland County\n",
       "76415       La Crosse County\n",
       "Name: County, Length: 276416, dtype: object"
      ]
     },
     "execution_count": 10,
     "metadata": {},
     "output_type": "execute_result"
    }
   ],
   "source": [
    "df1['County']"
   ]
  },
  {
   "cell_type": "code",
   "execution_count": 11,
   "metadata": {},
   "outputs": [
    {
     "data": {
      "text/plain": [
       "(276416, 111)"
      ]
     },
     "execution_count": 11,
     "metadata": {},
     "output_type": "execute_result"
    }
   ],
   "source": [
    "df1.shape"
   ]
  },
  {
   "cell_type": "code",
   "execution_count": 12,
   "metadata": {},
   "outputs": [
    {
     "data": {
      "text/html": [
       "<div>\n",
       "<style scoped>\n",
       "    .dataframe tbody tr th:only-of-type {\n",
       "        vertical-align: middle;\n",
       "    }\n",
       "\n",
       "    .dataframe tbody tr th {\n",
       "        vertical-align: top;\n",
       "    }\n",
       "\n",
       "    .dataframe thead th {\n",
       "        text-align: right;\n",
       "    }\n",
       "</style>\n",
       "<table border=\"1\" class=\"dataframe\">\n",
       "  <thead>\n",
       "    <tr style=\"text-align: right;\">\n",
       "      <th></th>\n",
       "      <th>Unnamed: 0</th>\n",
       "      <th>Unnamed: 0.1</th>\n",
       "      <th>account_created_at</th>\n",
       "      <th>account_lang</th>\n",
       "      <th>bbox_coords</th>\n",
       "      <th>coords_coords</th>\n",
       "      <th>country</th>\n",
       "      <th>country_code</th>\n",
       "      <th>created_at</th>\n",
       "      <th>description</th>\n",
       "      <th>...</th>\n",
       "      <th>state</th>\n",
       "      <th>city</th>\n",
       "      <th>coordinates</th>\n",
       "      <th>state_new</th>\n",
       "      <th>County-City-State-Code-SDI</th>\n",
       "      <th>SDI</th>\n",
       "      <th>Code</th>\n",
       "      <th>State</th>\n",
       "      <th>City</th>\n",
       "      <th>County</th>\n",
       "    </tr>\n",
       "  </thead>\n",
       "  <tbody>\n",
       "    <tr>\n",
       "      <th>76411</th>\n",
       "      <td>276411</td>\n",
       "      <td>276411</td>\n",
       "      <td>1240620044</td>\n",
       "      <td>NaN</td>\n",
       "      <td>c(-71.084335, -66.885075, -66.885075, -71.0843...</td>\n",
       "      <td>c(NA, NA)</td>\n",
       "      <td>United States</td>\n",
       "      <td>US</td>\n",
       "      <td>1.58509e+09</td>\n",
       "      <td>NaN</td>\n",
       "      <td>...</td>\n",
       "      <td>ME</td>\n",
       "      <td>NaN</td>\n",
       "      <td>45.188407, -68.98470499999999</td>\n",
       "      <td>NaN</td>\n",
       "      <td>['Piscataquis County', 'NA', 'Maine', '23021',...</td>\n",
       "      <td>52</td>\n",
       "      <td>23021</td>\n",
       "      <td>Maine</td>\n",
       "      <td>NaN</td>\n",
       "      <td>Piscataquis County</td>\n",
       "    </tr>\n",
       "    <tr>\n",
       "      <th>76412</th>\n",
       "      <td>276412</td>\n",
       "      <td>276412</td>\n",
       "      <td>1527632150</td>\n",
       "      <td>NaN</td>\n",
       "      <td>c(-78.9448945, -78.7291467, -78.7291467, -78.9...</td>\n",
       "      <td>c(NA, NA)</td>\n",
       "      <td>United States</td>\n",
       "      <td>US</td>\n",
       "      <td>1.58509e+09</td>\n",
       "      <td>Big bespectacled shaggy glutton. Bad artist &amp; ...</td>\n",
       "      <td>...</td>\n",
       "      <td>NC</td>\n",
       "      <td>Cary</td>\n",
       "      <td>35.75618835, -78.8370206</td>\n",
       "      <td>NaN</td>\n",
       "      <td>['Wake County', 'Cary', 'North Carolina', '371...</td>\n",
       "      <td>23</td>\n",
       "      <td>37183</td>\n",
       "      <td>North Carolina</td>\n",
       "      <td>Cary</td>\n",
       "      <td>Wake County</td>\n",
       "    </tr>\n",
       "    <tr>\n",
       "      <th>76413</th>\n",
       "      <td>276413</td>\n",
       "      <td>276413</td>\n",
       "      <td>1423140706</td>\n",
       "      <td>NaN</td>\n",
       "      <td>c(-75.503083, -75.491561, -75.491561, -75.5030...</td>\n",
       "      <td>c(NA, NA)</td>\n",
       "      <td>United States</td>\n",
       "      <td>US</td>\n",
       "      <td>1.58509e+09</td>\n",
       "      <td>Austere Scholar, Boomer Rube, Staunch Crusader...</td>\n",
       "      <td>...</td>\n",
       "      <td>DE</td>\n",
       "      <td>Bellefonte</td>\n",
       "      <td>39.7669309, -75.497322</td>\n",
       "      <td>NaN</td>\n",
       "      <td>['New Castle County', 'NA', 'Delaware', '10003...</td>\n",
       "      <td>30</td>\n",
       "      <td>10003</td>\n",
       "      <td>Delaware</td>\n",
       "      <td>NaN</td>\n",
       "      <td>New Castle County</td>\n",
       "    </tr>\n",
       "    <tr>\n",
       "      <th>76414</th>\n",
       "      <td>276414</td>\n",
       "      <td>276414</td>\n",
       "      <td>1484528709</td>\n",
       "      <td>NaN</td>\n",
       "      <td>c(-83.56663, -83.441773, -83.441773, -83.56663...</td>\n",
       "      <td>c(NA, NA)</td>\n",
       "      <td>United States</td>\n",
       "      <td>US</td>\n",
       "      <td>1.58509e+09</td>\n",
       "      <td>daws 2-13-18\\n\\nDKNBNGLRDNSTNS\\n\\nfind me in t...</td>\n",
       "      <td>...</td>\n",
       "      <td>MI</td>\n",
       "      <td>White Lake</td>\n",
       "      <td>42.6555285, -83.5042015</td>\n",
       "      <td>NaN</td>\n",
       "      <td>['Oakland County', 'NA', 'Michigan', '26125', ...</td>\n",
       "      <td>12</td>\n",
       "      <td>26125</td>\n",
       "      <td>Michigan</td>\n",
       "      <td>NaN</td>\n",
       "      <td>Oakland County</td>\n",
       "    </tr>\n",
       "    <tr>\n",
       "      <th>76415</th>\n",
       "      <td>276415</td>\n",
       "      <td>276415</td>\n",
       "      <td>1374117042</td>\n",
       "      <td>NaN</td>\n",
       "      <td>c(-91.274654, -91.143588, -91.143588, -91.2746...</td>\n",
       "      <td>c(NA, NA)</td>\n",
       "      <td>United States</td>\n",
       "      <td>US</td>\n",
       "      <td>1.58509e+09</td>\n",
       "      <td>-Viterbo University 😴-Honestly, just going alo...</td>\n",
       "      <td>...</td>\n",
       "      <td>WI</td>\n",
       "      <td>La Crosse</td>\n",
       "      <td>43.8056435, -91.209121</td>\n",
       "      <td>NaN</td>\n",
       "      <td>['La Crosse County', 'La Crosse', 'Wisconsin',...</td>\n",
       "      <td>16</td>\n",
       "      <td>55063</td>\n",
       "      <td>Wisconsin</td>\n",
       "      <td>La Crosse</td>\n",
       "      <td>La Crosse County</td>\n",
       "    </tr>\n",
       "  </tbody>\n",
       "</table>\n",
       "<p>5 rows × 111 columns</p>\n",
       "</div>"
      ],
      "text/plain": [
       "       Unnamed: 0  Unnamed: 0.1 account_created_at  account_lang  \\\n",
       "76411      276411        276411         1240620044           NaN   \n",
       "76412      276412        276412         1527632150           NaN   \n",
       "76413      276413        276413         1423140706           NaN   \n",
       "76414      276414        276414         1484528709           NaN   \n",
       "76415      276415        276415         1374117042           NaN   \n",
       "\n",
       "                                             bbox_coords coords_coords  \\\n",
       "76411  c(-71.084335, -66.885075, -66.885075, -71.0843...     c(NA, NA)   \n",
       "76412  c(-78.9448945, -78.7291467, -78.7291467, -78.9...     c(NA, NA)   \n",
       "76413  c(-75.503083, -75.491561, -75.491561, -75.5030...     c(NA, NA)   \n",
       "76414  c(-83.56663, -83.441773, -83.441773, -83.56663...     c(NA, NA)   \n",
       "76415  c(-91.274654, -91.143588, -91.143588, -91.2746...     c(NA, NA)   \n",
       "\n",
       "             country country_code   created_at  \\\n",
       "76411  United States           US  1.58509e+09   \n",
       "76412  United States           US  1.58509e+09   \n",
       "76413  United States           US  1.58509e+09   \n",
       "76414  United States           US  1.58509e+09   \n",
       "76415  United States           US  1.58509e+09   \n",
       "\n",
       "                                             description         ...          \\\n",
       "76411                                                NaN         ...           \n",
       "76412  Big bespectacled shaggy glutton. Bad artist & ...         ...           \n",
       "76413  Austere Scholar, Boomer Rube, Staunch Crusader...         ...           \n",
       "76414  daws 2-13-18\\n\\nDKNBNGLRDNSTNS\\n\\nfind me in t...         ...           \n",
       "76415  -Viterbo University 😴-Honestly, just going alo...         ...           \n",
       "\n",
       "      state        city                    coordinates state_new  \\\n",
       "76411    ME         NaN  45.188407, -68.98470499999999       NaN   \n",
       "76412    NC        Cary       35.75618835, -78.8370206       NaN   \n",
       "76413    DE  Bellefonte         39.7669309, -75.497322       NaN   \n",
       "76414    MI  White Lake        42.6555285, -83.5042015       NaN   \n",
       "76415    WI   La Crosse         43.8056435, -91.209121       NaN   \n",
       "\n",
       "                              County-City-State-Code-SDI SDI   Code  \\\n",
       "76411  ['Piscataquis County', 'NA', 'Maine', '23021',...  52  23021   \n",
       "76412  ['Wake County', 'Cary', 'North Carolina', '371...  23  37183   \n",
       "76413  ['New Castle County', 'NA', 'Delaware', '10003...  30  10003   \n",
       "76414  ['Oakland County', 'NA', 'Michigan', '26125', ...  12  26125   \n",
       "76415  ['La Crosse County', 'La Crosse', 'Wisconsin',...  16  55063   \n",
       "\n",
       "                State       City              County  \n",
       "76411           Maine        NaN  Piscataquis County  \n",
       "76412  North Carolina       Cary         Wake County  \n",
       "76413        Delaware        NaN   New Castle County  \n",
       "76414        Michigan        NaN      Oakland County  \n",
       "76415       Wisconsin  La Crosse    La Crosse County  \n",
       "\n",
       "[5 rows x 111 columns]"
      ]
     },
     "execution_count": 12,
     "metadata": {},
     "output_type": "execute_result"
    }
   ],
   "source": [
    "df1.tail(5)"
   ]
  },
  {
   "cell_type": "code",
   "execution_count": 13,
   "metadata": {},
   "outputs": [],
   "source": [
    "df1.to_csv('all_276k.csv')"
   ]
  },
  {
   "cell_type": "code",
   "execution_count": 5,
   "metadata": {},
   "outputs": [],
   "source": [
    "dfc = pd.read_csv('covid-19-data-master/us-counties.csv')\n",
    "dfs = pd.read_csv('covid-19-data-master/us-states.csv')"
   ]
  },
  {
   "cell_type": "code",
   "execution_count": 6,
   "metadata": {},
   "outputs": [
    {
     "name": "stdout",
     "output_type": "stream",
     "text": [
      "<class 'pandas.core.frame.DataFrame'>\n",
      "RangeIndex: 35698 entries, 0 to 35697\n",
      "Data columns (total 6 columns):\n",
      "date      35698 non-null object\n",
      "county    35698 non-null object\n",
      "state     35698 non-null object\n",
      "fips      35180 non-null float64\n",
      "cases     35698 non-null int64\n",
      "deaths    35698 non-null int64\n",
      "dtypes: float64(1), int64(2), object(3)\n",
      "memory usage: 1.6+ MB\n"
     ]
    }
   ],
   "source": [
    "dfc.info()"
   ]
  },
  {
   "cell_type": "code",
   "execution_count": 34,
   "metadata": {},
   "outputs": [],
   "source": [
    "county_cases_dic = {}\n",
    "county_deaths_dic = {}\n",
    "county_names_dic = {}\n",
    "county_states_dic = {}"
   ]
  },
  {
   "cell_type": "code",
   "execution_count": 35,
   "metadata": {},
   "outputs": [],
   "source": [
    "import time"
   ]
  },
  {
   "cell_type": "code",
   "execution_count": 36,
   "metadata": {},
   "outputs": [
    {
     "name": "stdout",
     "output_type": "stream",
     "text": [
      "0.022228920459747316\n"
     ]
    }
   ],
   "source": [
    "t1 = time.time()\n",
    "\n",
    "def county_level(x):\n",
    "    if pd.isnull(x['fips'])==True:\n",
    "        return\n",
    "        \n",
    "    x['fips'] = int(x['fips'])\n",
    "    \n",
    "    county_names_dic[str(x['fips'])] = x['county']\n",
    "    \n",
    "    county_states_dic[str(x['fips'])] = x['state']\n",
    "\n",
    "    county_cases_dic[str(x['fips'])] = x['cases']\n",
    "\n",
    "    county_deaths_dic[str(x['fips'])] = x['deaths']\n",
    "    \n",
    "\n",
    "dfc[:12377].apply(lambda x: county_level(x), axis=1)\n",
    "\n",
    "print((time.time()-t1)/60)"
   ]
  },
  {
   "cell_type": "code",
   "execution_count": 37,
   "metadata": {},
   "outputs": [
    {
     "data": {
      "text/plain": [
       "(35698, 6)"
      ]
     },
     "execution_count": 37,
     "metadata": {},
     "output_type": "execute_result"
    }
   ],
   "source": [
    "dfc.shape"
   ]
  },
  {
   "cell_type": "code",
   "execution_count": 64,
   "metadata": {},
   "outputs": [],
   "source": [
    "df_1 = pd.DataFrame(list(county_states_dic.items()),columns=['fips','state'])\n",
    "df_2 = pd.DataFrame(list(county_names_dic.items()),columns=['fips','county'])\n",
    "df_3 = pd.DataFrame(list(county_cases_dic.items()),columns=['fips','cases'])\n",
    "df_4 = pd.DataFrame(list(county_deaths_dic.items()),columns=['fips','deaths'])"
   ]
  },
  {
   "cell_type": "code",
   "execution_count": 69,
   "metadata": {},
   "outputs": [],
   "source": [
    "df_x = pd.merge(df_1, df_2, on='fips')\n",
    "df_x = pd.merge(df_x, df_3, on='fips')\n",
    "df_x = pd.merge(df_x, df_4, on='fips')"
   ]
  },
  {
   "cell_type": "code",
   "execution_count": 75,
   "metadata": {},
   "outputs": [],
   "source": [
    "df_x = df_x.sort_values('cases')"
   ]
  },
  {
   "cell_type": "code",
   "execution_count": 76,
   "metadata": {},
   "outputs": [],
   "source": [
    "df_x.to_csv('county_level_sorted.csv')"
   ]
  },
  {
   "cell_type": "code",
   "execution_count": 81,
   "metadata": {},
   "outputs": [
    {
     "name": "stdout",
     "output_type": "stream",
     "text": [
      "0.0018184185028076172\n"
     ]
    }
   ],
   "source": [
    "county_cases_dic = {}\n",
    "county_deaths_dic = {}\n",
    "county_states_dic = {}\n",
    "\n",
    "t1 = time.time()\n",
    "\n",
    "def state_level(x):\n",
    "    if pd.isnull(x['fips'])==True:\n",
    "        return\n",
    "        \n",
    "    x['fips'] = int(x['fips'])\n",
    "    \n",
    "    county_states_dic[str(x['fips'])] = x['state']\n",
    "\n",
    "    county_cases_dic[str(x['fips'])] = x['cases']\n",
    "\n",
    "    county_deaths_dic[str(x['fips'])] = x['deaths']\n",
    "    \n",
    "\n",
    "dfs[:1281].apply(lambda x: state_level(x), axis=1)\n",
    "\n",
    "print((time.time()-t1)/60)"
   ]
  },
  {
   "cell_type": "code",
   "execution_count": 82,
   "metadata": {},
   "outputs": [],
   "source": [
    "df_1 = pd.DataFrame(list(county_states_dic.items()),columns=['fips','state'])\n",
    "df_2 = pd.DataFrame(list(county_cases_dic.items()),columns=['fips','cases'])\n",
    "df_3 = pd.DataFrame(list(county_deaths_dic.items()),columns=['fips','deaths'])"
   ]
  },
  {
   "cell_type": "code",
   "execution_count": 83,
   "metadata": {},
   "outputs": [],
   "source": [
    "df_y = pd.merge(df_1, df_2, on='fips')\n",
    "df_y = pd.merge(df_y, df_3, on='fips')"
   ]
  },
  {
   "cell_type": "code",
   "execution_count": 86,
   "metadata": {},
   "outputs": [],
   "source": [
    "df_y = df_y.sort_values('cases')"
   ]
  },
  {
   "cell_type": "code",
   "execution_count": 87,
   "metadata": {},
   "outputs": [],
   "source": [
    "df_y.to_csv('state_level_sorted.csv')"
   ]
  },
  {
   "cell_type": "code",
   "execution_count": null,
   "metadata": {},
   "outputs": [],
   "source": []
  }
 ],
 "metadata": {
  "kernelspec": {
   "display_name": "Python 3",
   "language": "python",
   "name": "python3"
  }
 },
 "nbformat": 4,
 "nbformat_minor": 2
}
